{
 "cells": [
  {
   "cell_type": "markdown",
   "metadata": {},
   "source": [
    "# Time Tracker Automation"
   ]
  },
  {
   "cell_type": "markdown",
   "metadata": {},
   "source": [
    "## Install Packages"
   ]
  },
  {
   "cell_type": "code",
   "execution_count": 76,
   "metadata": {},
   "outputs": [],
   "source": [
    "import numpy as np\n",
    "import openpyxl as px\n",
    "import datetime"
   ]
  },
  {
   "cell_type": "code",
   "execution_count": 151,
   "metadata": {},
   "outputs": [
    {
     "data": {
      "text/plain": [
       "['Sheet']"
      ]
     },
     "execution_count": 151,
     "metadata": {},
     "output_type": "execute_result"
    }
   ],
   "source": [
    "wb = px.Workbook()\n",
    "wb.sheetnames"
   ]
  },
  {
   "cell_type": "code",
   "execution_count": 152,
   "metadata": {},
   "outputs": [
    {
     "data": {
      "text/plain": [
       "<Worksheet \"Time Tracker 2021\">"
      ]
     },
     "execution_count": 152,
     "metadata": {},
     "output_type": "execute_result"
    }
   ],
   "source": [
    "wb.create_sheet(index=0, title='Time Tracker 2021')"
   ]
  },
  {
   "cell_type": "code",
   "execution_count": 153,
   "metadata": {},
   "outputs": [
    {
     "data": {
      "text/plain": [
       "['Time Tracker 2021', 'Sheet']"
      ]
     },
     "execution_count": 153,
     "metadata": {},
     "output_type": "execute_result"
    }
   ],
   "source": [
    "wb.sheetnames"
   ]
  },
  {
   "cell_type": "code",
   "execution_count": 154,
   "metadata": {},
   "outputs": [],
   "source": [
    "timetracker = wb['Time Tracker 2021']"
   ]
  },
  {
   "cell_type": "code",
   "execution_count": 155,
   "metadata": {},
   "outputs": [
    {
     "data": {
      "text/plain": [
       "'hi'"
      ]
     },
     "execution_count": 155,
     "metadata": {},
     "output_type": "execute_result"
    }
   ],
   "source": [
    "timetracker['A1'] = 'hi'\n",
    "timetracker['A1'].value"
   ]
  },
  {
   "cell_type": "code",
   "execution_count": 182,
   "metadata": {},
   "outputs": [],
   "source": [
    "with open('time.txt') as f:\n",
    "    lines = f.readlines()"
   ]
  },
  {
   "cell_type": "code",
   "execution_count": 183,
   "metadata": {},
   "outputs": [
    {
     "data": {
      "text/plain": [
       "['9:15 sleep\\n', '10:00 food\\n', '11:00 work\\n', '1:30 study']"
      ]
     },
     "execution_count": 183,
     "metadata": {},
     "output_type": "execute_result"
    }
   ],
   "source": [
    "lines"
   ]
  },
  {
   "cell_type": "code",
   "execution_count": 184,
   "metadata": {},
   "outputs": [
    {
     "name": "stdout",
     "output_type": "stream",
     "text": [
      "9:15 sleep\n",
      "\n"
     ]
    },
    {
     "ename": "ValueError",
     "evalue": "too many values to unpack (expected 2)",
     "output_type": "error",
     "traceback": [
      "\u001b[0;31m---------------------------------------------------------------------------\u001b[0m",
      "\u001b[0;31mValueError\u001b[0m                                Traceback (most recent call last)",
      "\u001b[0;32m<ipython-input-184-ca106c94f2e7>\u001b[0m in \u001b[0;36m<module>\u001b[0;34m\u001b[0m\n\u001b[1;32m      3\u001b[0m     \u001b[0mtime\u001b[0m\u001b[0;34m,\u001b[0m \u001b[0mtask\u001b[0m \u001b[0;34m=\u001b[0m \u001b[0mnew_line\u001b[0m\u001b[0;34m\u001b[0m\u001b[0;34m\u001b[0m\u001b[0m\n\u001b[1;32m      4\u001b[0m \u001b[0;31m#     try:\u001b[0m\u001b[0;34m\u001b[0m\u001b[0;34m\u001b[0m\u001b[0;34m\u001b[0m\u001b[0m\n\u001b[0;32m----> 5\u001b[0;31m     \u001b[0mnext_time\u001b[0m\u001b[0;34m,\u001b[0m \u001b[0mnext_task\u001b[0m \u001b[0;34m=\u001b[0m \u001b[0mlines\u001b[0m\u001b[0;34m[\u001b[0m\u001b[0mi\u001b[0m \u001b[0;34m+\u001b[0m \u001b[0;36m1\u001b[0m\u001b[0;34m]\u001b[0m\u001b[0;34m\u001b[0m\u001b[0;34m\u001b[0m\u001b[0m\n\u001b[0m\u001b[1;32m      6\u001b[0m     \u001b[0mprint\u001b[0m\u001b[0;34m(\u001b[0m\u001b[0mnext_time\u001b[0m\u001b[0;34m)\u001b[0m\u001b[0;34m\u001b[0m\u001b[0;34m\u001b[0m\u001b[0m\n\u001b[1;32m      7\u001b[0m     \u001b[0mnext_time\u001b[0m \u001b[0;34m=\u001b[0m \u001b[0mdatetime\u001b[0m\u001b[0;34m.\u001b[0m\u001b[0mdatetime\u001b[0m\u001b[0;34m.\u001b[0m\u001b[0mstrptime\u001b[0m\u001b[0;34m(\u001b[0m\u001b[0mnext_time\u001b[0m\u001b[0;34m,\u001b[0m \u001b[0;34m'%H:%M'\u001b[0m\u001b[0;34m)\u001b[0m\u001b[0;34m\u001b[0m\u001b[0;34m\u001b[0m\u001b[0m\n",
      "\u001b[0;31mValueError\u001b[0m: too many values to unpack (expected 2)"
     ]
    }
   ],
   "source": [
    "for i, line in enumerate(lines):\n",
    "    print(line)\n",
    "    time, task = new_line\n",
    "#     try:\n",
    "    next_time, next_task = lines[i + 1]\n",
    "    print(next_time)\n",
    "    next_time = datetime.datetime.strptime(next_time, '%H:%M')\n",
    "#     except:\n",
    "#         next_time = datetime.datetime(1900,1,1,12,0)\n",
    "    time = datetime.datetime.strptime(time, '%H:%M')\n",
    "    diff = next_time - time\n",
    "    time = time.strftime('%H:%M')\n",
    "    print(time, diff, task)\n",
    "    print('    ', next_time)\n",
    "    print('')"
   ]
  },
  {
   "cell_type": "code",
   "execution_count": 214,
   "metadata": {},
   "outputs": [],
   "source": [
    "def reset():\n",
    "    WEEKLY_TASKS = {'sleep': 0.0,\n",
    "    'work': 0.0,\n",
    "    'personal work': 0.0,\n",
    "    'voyager': 0.0,\n",
    "    'class': 0.0,\n",
    "    'study': 0.0,\n",
    "    'ML': 0.0,\n",
    "    'recruiting': 0.0,\n",
    "    'planning': 0.0,\n",
    "    'food': 0.0,\n",
    "    'shower/daily tasks': 0.0,\n",
    "    'friends': 0.0,\n",
    "    'yt/editing': 0.0,\n",
    "    'family': 0.0,\n",
    "    'exercise': 0.0,\n",
    "    'reading': 0.0,\n",
    "    'creative/music': 0.0,\n",
    "    'chinese': 0.0,\n",
    "    'relax': 0.0,\n",
    "    'work total': 0.0,\n",
    "    'personal total': 0.0}\n",
    "    return WEEKLY_TASKS"
   ]
  },
  {
   "cell_type": "code",
   "execution_count": 215,
   "metadata": {},
   "outputs": [
    {
     "name": "stdout",
     "output_type": "stream",
     "text": [
      "1900-01-01 09:15:00\n",
      "   current task ==>  1900-01-01 09:15:00 sleep\n",
      "   next line ==>  1900-01-01 10:00:00 food\n",
      "   difference ==>  0:45:00\n",
      "\n",
      "1900-01-01 10:00:00\n",
      "   current task ==>  1900-01-01 10:00:00 food\n",
      "   next line ==>  1900-01-01 11:00:00 work\n",
      "   difference ==>  1:00:00\n",
      "\n",
      "1900-01-01 11:00:00\n",
      "   current task ==>  1900-01-01 11:00:00 work\n",
      "   next line ==>  1900-01-01 01:30:00 study\n",
      "   difference ==>  2:30:00\n",
      "\n",
      "1900-01-01 01:30:00\n",
      "   current task ==>  1900-01-01 01:30:00 study\n",
      "   next line ==>  1900-01-01 12:00:00 task\n",
      "   difference ==>  10:30:00\n",
      "\n"
     ]
    },
    {
     "data": {
      "text/plain": [
       "{'sleep': 0.75,\n",
       " 'work': 2.5,\n",
       " 'personal work': 0.0,\n",
       " 'voyager': 0.0,\n",
       " 'class': 0.0,\n",
       " 'study': 10.5,\n",
       " 'ML': 0.0,\n",
       " 'recruiting': 0.0,\n",
       " 'planning': 0.0,\n",
       " 'food': 1.0,\n",
       " 'shower/daily tasks': 0.0,\n",
       " 'friends': 0.0,\n",
       " 'yt/editing': 0.0,\n",
       " 'family': 0.0,\n",
       " 'exercise': 0.0,\n",
       " 'reading': 0.0,\n",
       " 'creative/music': 0.0,\n",
       " 'chinese': 0.0,\n",
       " 'relax': 0.0,\n",
       " 'work total': 0.0,\n",
       " 'personal total': 0.0}"
      ]
     },
     "execution_count": 215,
     "metadata": {},
     "output_type": "execute_result"
    }
   ],
   "source": [
    "WEEKLY_TASKS = reset()\n",
    "for i in range(len(lines)):\n",
    "    line = lines[i]\n",
    "    time, task = line.split(' ')\n",
    "    \n",
    "    # format\n",
    "    task = task.rstrip(\"\\n\")\n",
    "    time = datetime.datetime.strptime(time, '%H:%M')\n",
    "    print(time)\n",
    "    \n",
    "    # get next task\n",
    "    next_line = lines[i+1] if i+1 != len(lines) else '12:00 task'\n",
    "    next_time, next_task = next_line.split(' ')\n",
    "    next_task = next_task.rstrip(\"\\n\")\n",
    "    next_time = datetime.datetime.strptime(next_time, '%H:%M')\n",
    "    \n",
    "    # calculate length of activity\n",
    "    if next_time > time:\n",
    "        diff = next_time - time\n",
    "    else:\n",
    "        # case with a switch from am to pm\n",
    "        noon = datetime.datetime(1900,1,1,12,0)\n",
    "        diff = noon - time\n",
    "        midnight = datetime.datetime(1900,1,1,0,0)\n",
    "        diff += (next_time - midnight)\n",
    "        \n",
    "    # calulate percent    \n",
    "    percent_of_day = (diff.total_seconds() / 3600)\n",
    "    \n",
    "    # get tasks\n",
    "    get_single_task = [key for key in WEEKLY_TASKS if task == key]\n",
    "    if len(get_single_task) == 1:\n",
    "        WEEKLY_TASKS[task] += percent_of_day\n",
    "    else:\n",
    "        get_tasks = [key for key in WEEKLY_TASKS if task in key]\n",
    "        for task in get_tasks:\n",
    "            WEEKLY_TASKS[task] += percent_of_day\n",
    "    print('   current task ==> ', time, task)\n",
    "    print('   next line ==> ', next_time, next_task)\n",
    "    print('   difference ==> ', diff)\n",
    "    print('')\n",
    "WEEKLY_TASKS"
   ]
  },
  {
   "cell_type": "markdown",
   "metadata": {},
   "source": [
    "## Next Steps\n",
    "- create dictionary with all of the different rows in it\n",
    "- add up time for each category (initialize all at 0)\n",
    "- input into new row in excel going down vertically\n",
    "## Ideas\n",
    "- eventually change to military time for easier computation\n",
    "- boolean to detect when it switches to pm"
   ]
  },
  {
   "cell_type": "code",
   "execution_count": null,
   "metadata": {},
   "outputs": [],
   "source": []
  },
  {
   "cell_type": "code",
   "execution_count": 32,
   "metadata": {},
   "outputs": [],
   "source": [
    "wb.save('timetracker.xlsx')"
   ]
  },
  {
   "cell_type": "code",
   "execution_count": null,
   "metadata": {},
   "outputs": [],
   "source": []
  },
  {
   "cell_type": "code",
   "execution_count": null,
   "metadata": {},
   "outputs": [],
   "source": []
  },
  {
   "cell_type": "code",
   "execution_count": null,
   "metadata": {},
   "outputs": [],
   "source": []
  },
  {
   "cell_type": "code",
   "execution_count": null,
   "metadata": {},
   "outputs": [],
   "source": []
  },
  {
   "cell_type": "code",
   "execution_count": null,
   "metadata": {},
   "outputs": [],
   "source": []
  },
  {
   "cell_type": "code",
   "execution_count": null,
   "metadata": {},
   "outputs": [],
   "source": []
  }
 ],
 "metadata": {
  "kernelspec": {
   "display_name": "Python 3",
   "language": "python",
   "name": "python3"
  },
  "language_info": {
   "codemirror_mode": {
    "name": "ipython",
    "version": 3
   },
   "file_extension": ".py",
   "mimetype": "text/x-python",
   "name": "python",
   "nbconvert_exporter": "python",
   "pygments_lexer": "ipython3",
   "version": "3.8.3"
  }
 },
 "nbformat": 4,
 "nbformat_minor": 4
}
